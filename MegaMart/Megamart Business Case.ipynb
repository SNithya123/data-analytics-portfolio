{
 "cells": [
  {
   "cell_type": "markdown",
   "id": "a18bed74-dbcc-441d-a47f-9493fb711d94",
   "metadata": {},
   "source": [
    "# Q1. Import the dataset and do usual data analysis steps like checking the structure & characteristics of the dataset"
   ]
  },
  {
   "cell_type": "code",
   "execution_count": 23,
   "id": "e7269626-595a-4011-871a-b2ef30f995a9",
   "metadata": {},
   "outputs": [],
   "source": [
    "import pandas as pd\n",
    "import numpy as np"
   ]
  },
  {
   "cell_type": "markdown",
   "id": "847b2c65-64f8-4337-a392-11f0e9ea75b3",
   "metadata": {},
   "source": [
    "Basic Analysis"
   ]
  },
  {
   "cell_type": "code",
   "execution_count": 11,
   "id": "62b36c97-31cd-4556-b3c4-202866fed85a",
   "metadata": {},
   "outputs": [
    {
     "name": "stdout",
     "output_type": "stream",
     "text": [
      "<class 'pandas.core.frame.DataFrame'>\n",
      "RangeIndex: 550068 entries, 0 to 550067\n",
      "Data columns (total 10 columns):\n",
      " #   Column                      Non-Null Count   Dtype \n",
      "---  ------                      --------------   ----- \n",
      " 0   User_ID                     550068 non-null  int64 \n",
      " 1   Product_ID                  550068 non-null  object\n",
      " 2   Gender                      550068 non-null  object\n",
      " 3   Age                         550068 non-null  object\n",
      " 4   Occupation                  550068 non-null  int64 \n",
      " 5   City_Category               550068 non-null  object\n",
      " 6   Stay_In_Current_City_Years  550068 non-null  object\n",
      " 7   Marital_Status              550068 non-null  int64 \n",
      " 8   Product_Category            550068 non-null  int64 \n",
      " 9   Purchase                    550068 non-null  int64 \n",
      "dtypes: int64(5), object(5)\n",
      "memory usage: 42.0+ MB\n"
     ]
    }
   ],
   "source": [
    "wal=pd.read_csv('megamart_data.csv')\n",
    "wal.info()"
   ]
  },
  {
   "cell_type": "code",
   "execution_count": 34,
   "id": "110d27d0-6097-43fb-b763-0ac5379b86ea",
   "metadata": {},
   "outputs": [
    {
     "data": {
      "text/plain": [
       "(550068, 10)"
      ]
     },
     "execution_count": 34,
     "metadata": {},
     "output_type": "execute_result"
    }
   ],
   "source": [
    "wal.shape"
   ]
  },
  {
   "cell_type": "code",
   "execution_count": 70,
   "id": "2f83ebc3-6fca-4efb-b6d9-c20f42d0dbfd",
   "metadata": {},
   "outputs": [
    {
     "data": {
      "text/html": [
       "<div>\n",
       "<style scoped>\n",
       "    .dataframe tbody tr th:only-of-type {\n",
       "        vertical-align: middle;\n",
       "    }\n",
       "\n",
       "    .dataframe tbody tr th {\n",
       "        vertical-align: top;\n",
       "    }\n",
       "\n",
       "    .dataframe thead th {\n",
       "        text-align: right;\n",
       "    }\n",
       "</style>\n",
       "<table border=\"1\" class=\"dataframe\">\n",
       "  <thead>\n",
       "    <tr style=\"text-align: right;\">\n",
       "      <th></th>\n",
       "      <th>User_ID</th>\n",
       "      <th>Product_ID</th>\n",
       "      <th>Gender</th>\n",
       "      <th>Age</th>\n",
       "      <th>Occupation</th>\n",
       "      <th>City_Category</th>\n",
       "      <th>Stay_In_Current_City_Years</th>\n",
       "      <th>Marital_Status</th>\n",
       "      <th>Product_Category</th>\n",
       "      <th>Purchase</th>\n",
       "    </tr>\n",
       "  </thead>\n",
       "  <tbody>\n",
       "    <tr>\n",
       "      <th>184451</th>\n",
       "      <td>1004447</td>\n",
       "      <td>P00329742</td>\n",
       "      <td>M</td>\n",
       "      <td>46-50</td>\n",
       "      <td>5</td>\n",
       "      <td>B</td>\n",
       "      <td>0</td>\n",
       "      <td>1</td>\n",
       "      <td>6</td>\n",
       "      <td>12021</td>\n",
       "    </tr>\n",
       "    <tr>\n",
       "      <th>499204</th>\n",
       "      <td>1004867</td>\n",
       "      <td>P00156442</td>\n",
       "      <td>M</td>\n",
       "      <td>26-35</td>\n",
       "      <td>16</td>\n",
       "      <td>A</td>\n",
       "      <td>3</td>\n",
       "      <td>0</td>\n",
       "      <td>8</td>\n",
       "      <td>7779</td>\n",
       "    </tr>\n",
       "    <tr>\n",
       "      <th>257630</th>\n",
       "      <td>1003713</td>\n",
       "      <td>P00140742</td>\n",
       "      <td>F</td>\n",
       "      <td>26-35</td>\n",
       "      <td>7</td>\n",
       "      <td>B</td>\n",
       "      <td>1</td>\n",
       "      <td>1</td>\n",
       "      <td>1</td>\n",
       "      <td>11891</td>\n",
       "    </tr>\n",
       "    <tr>\n",
       "      <th>397781</th>\n",
       "      <td>1001224</td>\n",
       "      <td>P00222242</td>\n",
       "      <td>M</td>\n",
       "      <td>51-55</td>\n",
       "      <td>13</td>\n",
       "      <td>B</td>\n",
       "      <td>4+</td>\n",
       "      <td>0</td>\n",
       "      <td>1</td>\n",
       "      <td>12037</td>\n",
       "    </tr>\n",
       "    <tr>\n",
       "      <th>46437</th>\n",
       "      <td>1001149</td>\n",
       "      <td>P00275842</td>\n",
       "      <td>M</td>\n",
       "      <td>26-35</td>\n",
       "      <td>12</td>\n",
       "      <td>A</td>\n",
       "      <td>1</td>\n",
       "      <td>1</td>\n",
       "      <td>2</td>\n",
       "      <td>10010</td>\n",
       "    </tr>\n",
       "  </tbody>\n",
       "</table>\n",
       "</div>"
      ],
      "text/plain": [
       "        User_ID Product_ID Gender    Age  Occupation City_Category  \\\n",
       "184451  1004447  P00329742      M  46-50           5             B   \n",
       "499204  1004867  P00156442      M  26-35          16             A   \n",
       "257630  1003713  P00140742      F  26-35           7             B   \n",
       "397781  1001224  P00222242      M  51-55          13             B   \n",
       "46437   1001149  P00275842      M  26-35          12             A   \n",
       "\n",
       "       Stay_In_Current_City_Years  Marital_Status  Product_Category  Purchase  \n",
       "184451                          0               1                 6     12021  \n",
       "499204                          3               0                 8      7779  \n",
       "257630                          1               1                 1     11891  \n",
       "397781                         4+               0                 1     12037  \n",
       "46437                           1               1                 2     10010  "
      ]
     },
     "execution_count": 70,
     "metadata": {},
     "output_type": "execute_result"
    }
   ],
   "source": [
    "wal.sample(5)"
   ]
  },
  {
   "cell_type": "code",
   "execution_count": 39,
   "id": "900666b8-14cb-433b-a701-8859469ed1e2",
   "metadata": {},
   "outputs": [
    {
     "data": {
      "text/html": [
       "<div>\n",
       "<style scoped>\n",
       "    .dataframe tbody tr th:only-of-type {\n",
       "        vertical-align: middle;\n",
       "    }\n",
       "\n",
       "    .dataframe tbody tr th {\n",
       "        vertical-align: top;\n",
       "    }\n",
       "\n",
       "    .dataframe thead th {\n",
       "        text-align: right;\n",
       "    }\n",
       "</style>\n",
       "<table border=\"1\" class=\"dataframe\">\n",
       "  <thead>\n",
       "    <tr style=\"text-align: right;\">\n",
       "      <th></th>\n",
       "      <th>Product_ID</th>\n",
       "      <th>Gender</th>\n",
       "      <th>Age</th>\n",
       "      <th>City_Category</th>\n",
       "      <th>Stay_In_Current_City_Years</th>\n",
       "    </tr>\n",
       "  </thead>\n",
       "  <tbody>\n",
       "    <tr>\n",
       "      <th>count</th>\n",
       "      <td>550068</td>\n",
       "      <td>550068</td>\n",
       "      <td>550068</td>\n",
       "      <td>550068</td>\n",
       "      <td>550068</td>\n",
       "    </tr>\n",
       "    <tr>\n",
       "      <th>unique</th>\n",
       "      <td>3631</td>\n",
       "      <td>2</td>\n",
       "      <td>7</td>\n",
       "      <td>3</td>\n",
       "      <td>5</td>\n",
       "    </tr>\n",
       "    <tr>\n",
       "      <th>top</th>\n",
       "      <td>P00265242</td>\n",
       "      <td>M</td>\n",
       "      <td>26-35</td>\n",
       "      <td>B</td>\n",
       "      <td>1</td>\n",
       "    </tr>\n",
       "    <tr>\n",
       "      <th>freq</th>\n",
       "      <td>1880</td>\n",
       "      <td>414259</td>\n",
       "      <td>219587</td>\n",
       "      <td>231173</td>\n",
       "      <td>193821</td>\n",
       "    </tr>\n",
       "  </tbody>\n",
       "</table>\n",
       "</div>"
      ],
      "text/plain": [
       "       Product_ID  Gender     Age City_Category Stay_In_Current_City_Years\n",
       "count      550068  550068  550068        550068                     550068\n",
       "unique       3631       2       7             3                          5\n",
       "top     P00265242       M   26-35             B                          1\n",
       "freq         1880  414259  219587        231173                     193821"
      ]
     },
     "execution_count": 39,
     "metadata": {},
     "output_type": "execute_result"
    }
   ],
   "source": [
    "wal.describe(include=object)"
   ]
  },
  {
   "cell_type": "code",
   "execution_count": 41,
   "id": "8da2b70c-1ed7-4141-a690-b26c05d5ee7f",
   "metadata": {},
   "outputs": [
    {
     "data": {
      "text/html": [
       "<div>\n",
       "<style scoped>\n",
       "    .dataframe tbody tr th:only-of-type {\n",
       "        vertical-align: middle;\n",
       "    }\n",
       "\n",
       "    .dataframe tbody tr th {\n",
       "        vertical-align: top;\n",
       "    }\n",
       "\n",
       "    .dataframe thead th {\n",
       "        text-align: right;\n",
       "    }\n",
       "</style>\n",
       "<table border=\"1\" class=\"dataframe\">\n",
       "  <thead>\n",
       "    <tr style=\"text-align: right;\">\n",
       "      <th></th>\n",
       "      <th>User_ID</th>\n",
       "      <th>Occupation</th>\n",
       "      <th>Marital_Status</th>\n",
       "      <th>Product_Category</th>\n",
       "      <th>Purchase</th>\n",
       "    </tr>\n",
       "  </thead>\n",
       "  <tbody>\n",
       "    <tr>\n",
       "      <th>count</th>\n",
       "      <td>5.500680e+05</td>\n",
       "      <td>550068.000000</td>\n",
       "      <td>550068.000000</td>\n",
       "      <td>550068.000000</td>\n",
       "      <td>550068.000000</td>\n",
       "    </tr>\n",
       "    <tr>\n",
       "      <th>mean</th>\n",
       "      <td>1.003029e+06</td>\n",
       "      <td>8.076707</td>\n",
       "      <td>0.409653</td>\n",
       "      <td>5.404270</td>\n",
       "      <td>9263.968713</td>\n",
       "    </tr>\n",
       "    <tr>\n",
       "      <th>std</th>\n",
       "      <td>1.727592e+03</td>\n",
       "      <td>6.522660</td>\n",
       "      <td>0.491770</td>\n",
       "      <td>3.936211</td>\n",
       "      <td>5023.065394</td>\n",
       "    </tr>\n",
       "    <tr>\n",
       "      <th>min</th>\n",
       "      <td>1.000001e+06</td>\n",
       "      <td>0.000000</td>\n",
       "      <td>0.000000</td>\n",
       "      <td>1.000000</td>\n",
       "      <td>12.000000</td>\n",
       "    </tr>\n",
       "    <tr>\n",
       "      <th>25%</th>\n",
       "      <td>1.001516e+06</td>\n",
       "      <td>2.000000</td>\n",
       "      <td>0.000000</td>\n",
       "      <td>1.000000</td>\n",
       "      <td>5823.000000</td>\n",
       "    </tr>\n",
       "    <tr>\n",
       "      <th>50%</th>\n",
       "      <td>1.003077e+06</td>\n",
       "      <td>7.000000</td>\n",
       "      <td>0.000000</td>\n",
       "      <td>5.000000</td>\n",
       "      <td>8047.000000</td>\n",
       "    </tr>\n",
       "    <tr>\n",
       "      <th>75%</th>\n",
       "      <td>1.004478e+06</td>\n",
       "      <td>14.000000</td>\n",
       "      <td>1.000000</td>\n",
       "      <td>8.000000</td>\n",
       "      <td>12054.000000</td>\n",
       "    </tr>\n",
       "    <tr>\n",
       "      <th>max</th>\n",
       "      <td>1.006040e+06</td>\n",
       "      <td>20.000000</td>\n",
       "      <td>1.000000</td>\n",
       "      <td>20.000000</td>\n",
       "      <td>23961.000000</td>\n",
       "    </tr>\n",
       "  </tbody>\n",
       "</table>\n",
       "</div>"
      ],
      "text/plain": [
       "            User_ID     Occupation  Marital_Status  Product_Category  \\\n",
       "count  5.500680e+05  550068.000000   550068.000000     550068.000000   \n",
       "mean   1.003029e+06       8.076707        0.409653          5.404270   \n",
       "std    1.727592e+03       6.522660        0.491770          3.936211   \n",
       "min    1.000001e+06       0.000000        0.000000          1.000000   \n",
       "25%    1.001516e+06       2.000000        0.000000          1.000000   \n",
       "50%    1.003077e+06       7.000000        0.000000          5.000000   \n",
       "75%    1.004478e+06      14.000000        1.000000          8.000000   \n",
       "max    1.006040e+06      20.000000        1.000000         20.000000   \n",
       "\n",
       "            Purchase  \n",
       "count  550068.000000  \n",
       "mean     9263.968713  \n",
       "std      5023.065394  \n",
       "min        12.000000  \n",
       "25%      5823.000000  \n",
       "50%      8047.000000  \n",
       "75%     12054.000000  \n",
       "max     23961.000000  "
      ]
     },
     "execution_count": 41,
     "metadata": {},
     "output_type": "execute_result"
    }
   ],
   "source": [
    "wal.describe()"
   ]
  },
  {
   "cell_type": "code",
   "execution_count": 46,
   "id": "6f2407c1-f9a3-43bb-a058-ce0501c5715c",
   "metadata": {},
   "outputs": [
    {
     "data": {
      "text/plain": [
       "User_ID                       0\n",
       "Product_ID                    0\n",
       "Gender                        0\n",
       "Age                           0\n",
       "Occupation                    0\n",
       "City_Category                 0\n",
       "Stay_In_Current_City_Years    0\n",
       "Marital_Status                0\n",
       "Product_Category              0\n",
       "Purchase                      0\n",
       "dtype: int64"
      ]
     },
     "execution_count": 46,
     "metadata": {},
     "output_type": "execute_result"
    }
   ],
   "source": [
    "wal.isnull().sum()"
   ]
  },
  {
   "cell_type": "markdown",
   "id": "2df06e85-0969-4b2d-a5f2-dab9328ce83b",
   "metadata": {},
   "source": [
    "# Q2. Detect Null values & Outliers (using boxplot, “describe” method by checking the difference between mean and median, isnull etc.)"
   ]
  },
  {
   "cell_type": "code",
   "execution_count": 52,
   "id": "59a12dbf-40e7-4181-ad01-ca3ade400b98",
   "metadata": {},
   "outputs": [
    {
     "data": {
      "text/html": [
       "<div>\n",
       "<style scoped>\n",
       "    .dataframe tbody tr th:only-of-type {\n",
       "        vertical-align: middle;\n",
       "    }\n",
       "\n",
       "    .dataframe tbody tr th {\n",
       "        vertical-align: top;\n",
       "    }\n",
       "\n",
       "    .dataframe thead th {\n",
       "        text-align: right;\n",
       "    }\n",
       "</style>\n",
       "<table border=\"1\" class=\"dataframe\">\n",
       "  <thead>\n",
       "    <tr style=\"text-align: right;\">\n",
       "      <th></th>\n",
       "      <th>User_ID</th>\n",
       "      <th>Occupation</th>\n",
       "      <th>Marital_Status</th>\n",
       "      <th>Product_Category</th>\n",
       "      <th>Purchase</th>\n",
       "    </tr>\n",
       "  </thead>\n",
       "  <tbody>\n",
       "    <tr>\n",
       "      <th>count</th>\n",
       "      <td>5.500680e+05</td>\n",
       "      <td>550068.000000</td>\n",
       "      <td>550068.000000</td>\n",
       "      <td>550068.000000</td>\n",
       "      <td>550068.000000</td>\n",
       "    </tr>\n",
       "    <tr>\n",
       "      <th>mean</th>\n",
       "      <td>1.003029e+06</td>\n",
       "      <td>8.076707</td>\n",
       "      <td>0.409653</td>\n",
       "      <td>5.404270</td>\n",
       "      <td>9263.968713</td>\n",
       "    </tr>\n",
       "    <tr>\n",
       "      <th>std</th>\n",
       "      <td>1.727592e+03</td>\n",
       "      <td>6.522660</td>\n",
       "      <td>0.491770</td>\n",
       "      <td>3.936211</td>\n",
       "      <td>5023.065394</td>\n",
       "    </tr>\n",
       "    <tr>\n",
       "      <th>min</th>\n",
       "      <td>1.000001e+06</td>\n",
       "      <td>0.000000</td>\n",
       "      <td>0.000000</td>\n",
       "      <td>1.000000</td>\n",
       "      <td>12.000000</td>\n",
       "    </tr>\n",
       "    <tr>\n",
       "      <th>25%</th>\n",
       "      <td>1.001516e+06</td>\n",
       "      <td>2.000000</td>\n",
       "      <td>0.000000</td>\n",
       "      <td>1.000000</td>\n",
       "      <td>5823.000000</td>\n",
       "    </tr>\n",
       "    <tr>\n",
       "      <th>50%</th>\n",
       "      <td>1.003077e+06</td>\n",
       "      <td>7.000000</td>\n",
       "      <td>0.000000</td>\n",
       "      <td>5.000000</td>\n",
       "      <td>8047.000000</td>\n",
       "    </tr>\n",
       "    <tr>\n",
       "      <th>75%</th>\n",
       "      <td>1.004478e+06</td>\n",
       "      <td>14.000000</td>\n",
       "      <td>1.000000</td>\n",
       "      <td>8.000000</td>\n",
       "      <td>12054.000000</td>\n",
       "    </tr>\n",
       "    <tr>\n",
       "      <th>max</th>\n",
       "      <td>1.006040e+06</td>\n",
       "      <td>20.000000</td>\n",
       "      <td>1.000000</td>\n",
       "      <td>20.000000</td>\n",
       "      <td>23961.000000</td>\n",
       "    </tr>\n",
       "  </tbody>\n",
       "</table>\n",
       "</div>"
      ],
      "text/plain": [
       "            User_ID     Occupation  Marital_Status  Product_Category  \\\n",
       "count  5.500680e+05  550068.000000   550068.000000     550068.000000   \n",
       "mean   1.003029e+06       8.076707        0.409653          5.404270   \n",
       "std    1.727592e+03       6.522660        0.491770          3.936211   \n",
       "min    1.000001e+06       0.000000        0.000000          1.000000   \n",
       "25%    1.001516e+06       2.000000        0.000000          1.000000   \n",
       "50%    1.003077e+06       7.000000        0.000000          5.000000   \n",
       "75%    1.004478e+06      14.000000        1.000000          8.000000   \n",
       "max    1.006040e+06      20.000000        1.000000         20.000000   \n",
       "\n",
       "            Purchase  \n",
       "count  550068.000000  \n",
       "mean     9263.968713  \n",
       "std      5023.065394  \n",
       "min        12.000000  \n",
       "25%      5823.000000  \n",
       "50%      8047.000000  \n",
       "75%     12054.000000  \n",
       "max     23961.000000  "
      ]
     },
     "execution_count": 52,
     "metadata": {},
     "output_type": "execute_result"
    }
   ],
   "source": [
    "wal.describe()"
   ]
  },
  {
   "cell_type": "code",
   "execution_count": 58,
   "id": "e4dc6bcb-ab82-4e8b-9dac-4cde305c17cd",
   "metadata": {},
   "outputs": [
    {
     "data": {
      "text/plain": [
       "User_ID             1003077.0\n",
       "Occupation                7.0\n",
       "Marital_Status            0.0\n",
       "Product_Category          5.0\n",
       "Purchase               8047.0\n",
       "dtype: float64"
      ]
     },
     "execution_count": 58,
     "metadata": {},
     "output_type": "execute_result"
    }
   ],
   "source": [
    "wal.median(numeric_only=True)"
   ]
  },
  {
   "cell_type": "markdown",
   "id": "e45487bd-f1e0-4c1e-a7cc-582851d90476",
   "metadata": {},
   "source": [
    "Boxplot to detect outliers "
   ]
  },
  {
   "cell_type": "code",
   "execution_count": 90,
   "id": "25a7b201-b7b1-46f9-a358-ec119fee0969",
   "metadata": {},
   "outputs": [
    {
     "data": {
      "image/png": "[encoded data removed]",
      "text/plain": [
       "<Figure size 640x480 with 1 Axes>"
      ]
     },
     "metadata": {},
     "output_type": "display_data"
    }
   ],
   "source": [
    "import matplotlib.pyplot as plt\n",
    "import seaborn as sns\n",
    "sns.boxplot(data=wal,x='Purchase')\n",
    "plt.show()"
   ]
  },
  {
   "cell_type": "markdown",
   "id": "4a7bbc8e-85a0-4025-b529-b6ae93d3fe55",
   "metadata": {},
   "source": [
    "Clipping of Data"
   ]
  },
  {
   "cell_type": "code",
   "execution_count": 117,
   "id": "ce877569-81d3-466a-b389-6df6fe953354",
   "metadata": {},
   "outputs": [],
   "source": [
    "wal['Purchase']=(np.clip(wal['Purchase'],np.round(wal['Purchase'].quantile(0.05),2),np.round(wal['Purchase'].quantile(0.95),2)))"
   ]
  },
  {
   "cell_type": "raw",
   "id": "89efe83f-66f0-4c59-b4bf-5e540f7f59a6",
   "metadata": {},
   "source": [
    "Observation :  We could observe that due to outliers there is a significant difference in the mean and median for column such as Purchase."
   ]
  },
  {
   "cell_type": "markdown",
   "id": "0e319f04-18f8-455e-843c-c7615673042b",
   "metadata": {},
   "source": [
    "# Q3. Data Exploration"
   ]
  },
  {
   "cell_type": "markdown",
   "id": "7ec3d5f0-1950-4b6e-a257-a9249274ed39",
   "metadata": {},
   "source": [
    "Q3 A : Tracking the amount spent per transaction of all the 50 million female customers, and all the 50 million male customers, calculate the average, and conclude the results"
   ]
  },
  {
   "cell_type": "code",
   "execution_count": 185,
   "id": "5fd0b1f7-af82-430b-82d6-707086612191",
   "metadata": {},
   "outputs": [
    {
     "name": "stdout",
     "output_type": "stream",
     "text": [
      "Gender\n",
      "F    712185.35\n",
      "M    924335.96\n",
      "Name: Purchase, dtype: float64\n"
     ]
    }
   ],
   "source": [
    "customer_spend=wal.groupby('User_ID')['Purchase'].sum().reset_index()\n",
    "customer_spend=customer_spend.merge(wal[['User_ID','Gender']].drop_duplicates(), on='User_ID')\n",
    "avg_spent=customer_spend.groupby('Gender')['Purchase'].mean()\n",
    "print(np.round(avg_spent,2))"
   ]
  },
  {
   "cell_type": "code",
   "execution_count": 192,
   "id": "2ef50d57-340b-4c4a-a8b7-7c9b2b538714",
   "metadata": {},
   "outputs": [
    {
     "name": "stdout",
     "output_type": "stream",
     "text": [
      "Sample Mean:7751.416666666667\n",
      "Sample Standard Deviation:4658.526767651714\n",
      "Standard Error:950.917794486979\n",
      "Confidence Interval for the population mean (Customers, 95% Confidence):\n",
      "Lower Bound:5887.6520372139275\n",
      "Upper Bound:9615.181296119406\n"
     ]
    }
   ],
   "source": [
    "import scipy.stats as stats\n",
    "wal_sample=wal.sample(100)\n",
    "female_df=wal_sample[wal_sample['Gender']=='F']\n",
    "sample_mean=female_df['Purchase'].mean()\n",
    "sample_std=female_df['Purchase'].std()\n",
    "sample_size=female_df.shape[0]\n",
    "standard_error= sample_std/np.sqrt(sample_size)\n",
    "confidence_level=0.95\n",
    "z_value=stats.norm.ppf(1-(1-confidence_level)/2)\n",
    "margin_of_error=z_value*standard_error\n",
    "lower_bound=sample_mean-margin_of_error\n",
    "upper_bound=sample_mean+margin_of_error\n",
    "print(f\"Sample Mean:{sample_mean}\")\n",
    "print(f\"Sample Standard Deviation:{sample_std}\")\n",
    "print(f\"Standard Error:{standard_error}\")\n",
    "print(f\"Confidence Interval for the population mean (Customers, 95% Confidence):\")\n",
    "print(f\"Lower Bound:{lower_bound}\")\n",
    "print(f\"Upper Bound:{upper_bound}\")\n"
   ]
  },
  {
   "cell_type": "code",
   "execution_count": 194,
   "id": "201f0950-513a-4a68-b73a-6c0359640e45",
   "metadata": {},
   "outputs": [
    {
     "name": "stdout",
     "output_type": "stream",
     "text": [
      "Sample Mean:8369.04\n",
      "Sample Standard Deviation:4764.302564665343\n",
      "Standard Error:476.43025646653433\n",
      "Confidence Interval for the population mean (Female Customers, 95% Confidence):\n",
      "Lower Bound:7435.253856180412\n",
      "Upper Bound:9302.82614381959\n"
     ]
    }
   ],
   "source": [
    "import scipy.stats as stats\n",
    "female_df=wal[wal['Gender']=='F'].sample(100)\n",
    "sample_mean=female_df['Purchase'].mean()\n",
    "sample_std=female_df['Purchase'].std()\n",
    "sample_size=female_df.shape[0]\n",
    "standard_error= sample_std/np.sqrt(sample_size)\n",
    "confidence_level=0.95\n",
    "z_value=stats.norm.ppf(1-(1-confidence_level)/2)\n",
    "margin_of_error=z_value*standard_error\n",
    "lower_bound=sample_mean-margin_of_error\n",
    "upper_bound=sample_mean+margin_of_error\n",
    "print(f\"Sample Mean:{sample_mean}\")\n",
    "print(f\"Sample Standard Deviation:{sample_std}\")\n",
    "print(f\"Standard Error:{standard_error}\")\n",
    "print(f\"Confidence Interval for the population mean (Female Customers, 95% Confidence):\")\n",
    "print(f\"Lower Bound:{lower_bound}\")\n",
    "print(f\"Upper Bound:{upper_bound}\")\n"
   ]
  },
  {
   "cell_type": "markdown",
   "id": "6c616e95-c75b-4d08-8713-ad2f253bb3bb",
   "metadata": {},
   "source": [
    "Inference : According to above results Males have higher Expenditure "
   ]
  },
  {
   "cell_type": "markdown",
   "id": "7fec28dd-e9f1-4638-9eac-94d99693f74e",
   "metadata": {},
   "source": [
    "# Q4. Use the Central limit theorem to compute the interval. Change the sample size to observe the distribution of the mean of the expenses by female and male customers."
   ]
  },
  {
   "cell_type": "code",
   "execution_count": 211,
   "id": "3a0dfedd-be13-4be0-8686-72db499da4bd",
   "metadata": {},
   "outputs": [
    {
     "data": {
      "image/png": "[encoded data removed]",
      "text/plain": [
       "<Figure size 1400x1000 with 6 Axes>"
      ]
     },
     "metadata": {},
     "output_type": "display_data"
    },
    {
     "name": "stdout",
     "output_type": "stream",
     "text": [
      "Female Confidence Interval (95%): (7091.5606762545,10381.519855963541)\n",
      "Male Confidence Interval (95%):(7664.543568450405,11189.938424698808)\n"
     ]
    }
   ],
   "source": [
    "def clt_confidence_interval(data,sample_size,confidence_level):\n",
    "    sample_mean=np.mean(data)\n",
    "    sample_std=np.std(data, ddof=1)\n",
    "    standard_error=sample_std / np.sqrt(sample_size)\n",
    "    z_value=stats.norm.ppf(1-(1-confidence_level)/2)\n",
    "    margin_of_error=z_value*standard_error\n",
    "    lower_bound=sample_mean-margin_of_error\n",
    "    upper_bound=sample_mean+margin_of_error\n",
    "    return sample_mean,lower_bound,upper_bound\n",
    "def simulate_sampling(data,sample_size,num_samples=1000,confidence_level=0.95):\n",
    "    sample_means = []\n",
    "    for _ in range(num_samples):\n",
    "        sample=np.random.choice(data,size=sample_size,replace=False)\n",
    "        sample_mean,lower,upper = clt_confidence_interval(sample,sample_size,confidence_level)\n",
    "        sample_means.append(sample_mean)\n",
    "    return sample_means\n",
    "sample_sizes=[30,300,3000]\n",
    "confidence_levels=[0.90,0.95,0.99]\n",
    "\n",
    "female_data=wal[wal['Gender']=='F']['Purchase']\n",
    "male_data=wal[wal['Gender']=='M']['Purchase']\n",
    "plt.figure(figsize=(14, 10))\n",
    "for idx,sample_size in enumerate(sample_sizes):\n",
    "    plt.subplot(2,len(sample_sizes),idx+1)\n",
    "    female_sample_means=simulate_sampling(female_data,sample_size,num_samples=1000,confidence_level=0.95)\n",
    "    plt.hist(female_sample_means,bins=30,alpha=0.6,color='blue',label='Female')\n",
    "    plt.title(f'Female: Sample Size {sample_size}')\n",
    "    plt.xlabel('Sample Mean')\n",
    "    plt.ylabel('Frequency')\n",
    "    plt.subplot(2,len(sample_sizes),len(sample_sizes)+idx + 1)\n",
    "    male_sample_means=simulate_sampling(male_data, sample_size,num_samples=1000,confidence_level=0.95)\n",
    "    plt.hist(male_sample_means,bins=30,alpha=0.6,color='red',label='Male')\n",
    "    plt.title(f'Male: Sample Size {sample_size}')\n",
    "    plt.xlabel('Sample Mean')\n",
    "    plt.ylabel('Frequency')\n",
    "plt.tight_layout()\n",
    "plt.show()\n",
    "sample_size=30\n",
    "female_mean,female_lower,female_upper=clt_confidence_interval(female_data,sample_size,confidence_level=0.95)\n",
    "male_mean,male_lower,male_upper=clt_confidence_interval(male_data,sample_size,confidence_level=0.95)\n",
    "print(f\"Female Confidence Interval (95%): ({female_lower},{female_upper})\")\n",
    "print(f\"Male Confidence Interval (95%):({male_lower},{male_upper})\")"
   ]
  },
  {
   "cell_type": "markdown",
   "id": "09481d15-1a99-43fe-90bd-84d5e2c1bf89",
   "metadata": {},
   "source": [
    "Inference : The confidence interval for Male seems sloghtly higher which implies that the varibility is existing in the expenditure.\r"
   ]
  },
  {
   "cell_type": "markdown",
   "id": "790b6405-0aa2-4344-832a-73f315591187",
   "metadata": {},
   "source": [
    "# Q5. Conclude the results and check if the confidence intervals of average male and female spends are overlapping or not overlapping. How can Megamart leverage this conclusion to make changes or improvements?"
   ]
  },
  {
   "cell_type": "raw",
   "id": "78e31d7a-f80f-4505-ac68-f2843c3cb3f4",
   "metadata": {},
   "source": [
    "Conclusion\n",
    "1. The Confidence interval is overlapping. The Overlap occurs spprox at 7664 and 10381\n",
    "2. The Male CI is slighter higher in margin which implies variation in purchase pattern compared to Females\n",
    "3. The Megamart could take this into consideration that the average spending margin is not different suggesting a equal purchase power in both the genders.\n"
   ]
  },
  {
   "cell_type": "markdown",
   "id": "82f0261b-2b7b-4f8e-9faf-0799b5e3553b",
   "metadata": {},
   "source": [
    "# Q6. Perform the same activity for Married vs Unmarried and Age."
   ]
  },
  {
   "cell_type": "code",
   "execution_count": 221,
   "id": "577a4434-d21b-4716-8501-9eb75c676beb",
   "metadata": {},
   "outputs": [
    {
     "name": "stdout",
     "output_type": "stream",
     "text": [
      "--- Confidence Intervals for Age Group 0-17 ---\n",
      "Sample Size: 30, Confidence Level: 90.0%\n",
      "Estimated Mean: 8928.64, Confidence Interval: (7456.95, 10424.35)\n",
      "\n",
      "Sample Size: 30, Confidence Level: 95.0%\n",
      "Estimated Mean: 8936.37, Confidence Interval: (7172.71, 10708.59)\n",
      "\n",
      "Sample Size: 30, Confidence Level: 99.0%\n",
      "Estimated Mean: 9005.78, Confidence Interval: (6617.19, 11264.11)\n",
      "\n",
      "Sample Size: 300, Confidence Level: 90.0%\n",
      "Estimated Mean: 8933.33, Confidence Interval: (8471.46, 9409.84)\n",
      "\n",
      "Sample Size: 300, Confidence Level: 95.0%\n",
      "Estimated Mean: 8948.95, Confidence Interval: (8381.58, 9499.72)\n",
      "\n",
      "Sample Size: 300, Confidence Level: 99.0%\n",
      "Estimated Mean: 8931.89, Confidence Interval: (8205.91, 9675.39)\n",
      "\n",
      "Sample Size: 3000, Confidence Level: 90.0%\n",
      "Estimated Mean: 8941.67, Confidence Interval: (8792.28, 9089.02)\n",
      "\n",
      "Sample Size: 3000, Confidence Level: 95.0%\n",
      "Estimated Mean: 8936.20, Confidence Interval: (8763.86, 9117.44)\n",
      "\n",
      "Sample Size: 3000, Confidence Level: 99.0%\n",
      "Estimated Mean: 8936.19, Confidence Interval: (8708.30, 9173.00)\n",
      "\n",
      "--- Confidence Intervals for Age Group 55+ ---\n",
      "Sample Size: 30, Confidence Level: 90.0%\n",
      "Estimated Mean: 9296.89, Confidence Interval: (7892.34, 10763.25)\n",
      "\n",
      "Sample Size: 30, Confidence Level: 95.0%\n",
      "Estimated Mean: 9305.79, Confidence Interval: (7617.35, 11038.24)\n",
      "\n",
      "Sample Size: 30, Confidence Level: 99.0%\n",
      "Estimated Mean: 9389.55, Confidence Interval: (7079.89, 11575.70)\n",
      "\n",
      "Sample Size: 300, Confidence Level: 90.0%\n",
      "Estimated Mean: 9335.38, Confidence Interval: (8873.87, 9781.73)\n",
      "\n",
      "Sample Size: 300, Confidence Level: 95.0%\n",
      "Estimated Mean: 9326.82, Confidence Interval: (8786.91, 9868.69)\n",
      "\n",
      "Sample Size: 300, Confidence Level: 99.0%\n",
      "Estimated Mean: 9316.63, Confidence Interval: (8616.95, 10038.65)\n",
      "\n",
      "Sample Size: 3000, Confidence Level: 90.0%\n",
      "Estimated Mean: 9325.54, Confidence Interval: (9184.25, 9471.34)\n",
      "\n",
      "Sample Size: 3000, Confidence Level: 95.0%\n",
      "Estimated Mean: 9324.00, Confidence Interval: (9156.75, 9498.84)\n",
      "\n",
      "Sample Size: 3000, Confidence Level: 99.0%\n",
      "Estimated Mean: 9328.37, Confidence Interval: (9103.01, 9552.59)\n",
      "\n",
      "--- Confidence Intervals for Age Group 26-35 ---\n",
      "Sample Size: 30, Confidence Level: 90.0%\n",
      "Estimated Mean: 9253.29, Confidence Interval: (7785.73, 10701.83)\n",
      "\n",
      "Sample Size: 30, Confidence Level: 95.0%\n",
      "Estimated Mean: 9226.84, Confidence Interval: (7506.40, 10981.16)\n",
      "\n",
      "Sample Size: 30, Confidence Level: 99.0%\n",
      "Estimated Mean: 9272.71, Confidence Interval: (6960.48, 11527.08)\n",
      "\n",
      "Sample Size: 300, Confidence Level: 90.0%\n",
      "Estimated Mean: 9239.69, Confidence Interval: (8782.70, 9704.86)\n",
      "\n",
      "Sample Size: 300, Confidence Level: 95.0%\n",
      "Estimated Mean: 9245.04, Confidence Interval: (8694.37, 9793.19)\n",
      "\n",
      "Sample Size: 300, Confidence Level: 99.0%\n",
      "Estimated Mean: 9250.15, Confidence Interval: (8521.74, 9965.82)\n",
      "\n",
      "Sample Size: 3000, Confidence Level: 90.0%\n",
      "Estimated Mean: 9244.22, Confidence Interval: (9097.97, 9389.59)\n",
      "\n",
      "Sample Size: 3000, Confidence Level: 95.0%\n",
      "Estimated Mean: 9238.99, Confidence Interval: (9070.04, 9417.52)\n",
      "\n",
      "Sample Size: 3000, Confidence Level: 99.0%\n",
      "Estimated Mean: 9234.59, Confidence Interval: (9015.45, 9472.11)\n",
      "\n",
      "--- Confidence Intervals for Age Group 46-50 ---\n",
      "Sample Size: 30, Confidence Level: 90.0%\n",
      "Estimated Mean: 9186.31, Confidence Interval: (7766.96, 10641.47)\n",
      "\n",
      "Sample Size: 30, Confidence Level: 95.0%\n",
      "Estimated Mean: 9156.82, Confidence Interval: (7491.62, 10916.81)\n",
      "\n",
      "Sample Size: 30, Confidence Level: 99.0%\n",
      "Estimated Mean: 9148.10, Confidence Interval: (6953.48, 11454.94)\n",
      "\n",
      "Sample Size: 300, Confidence Level: 90.0%\n",
      "Estimated Mean: 9200.16, Confidence Interval: (8749.71, 9658.71)\n",
      "\n",
      "Sample Size: 300, Confidence Level: 95.0%\n",
      "Estimated Mean: 9219.30, Confidence Interval: (8662.64, 9745.78)\n",
      "\n",
      "Sample Size: 300, Confidence Level: 99.0%\n",
      "Estimated Mean: 9211.46, Confidence Interval: (8492.47, 9915.96)\n",
      "\n",
      "Sample Size: 3000, Confidence Level: 90.0%\n",
      "Estimated Mean: 9207.26, Confidence Interval: (9060.49, 9347.94)\n",
      "\n",
      "Sample Size: 3000, Confidence Level: 95.0%\n",
      "Estimated Mean: 9207.72, Confidence Interval: (9032.95, 9375.47)\n",
      "\n",
      "Sample Size: 3000, Confidence Level: 99.0%\n",
      "Estimated Mean: 9210.48, Confidence Interval: (8979.14, 9429.28)\n",
      "\n",
      "--- Confidence Intervals for Age Group 51-55 ---\n",
      "Sample Size: 30, Confidence Level: 90.0%\n",
      "Estimated Mean: 9533.84, Confidence Interval: (8051.27, 10978.45)\n",
      "\n",
      "Sample Size: 30, Confidence Level: 95.0%\n",
      "Estimated Mean: 9536.09, Confidence Interval: (7770.89, 11258.84)\n",
      "\n",
      "Sample Size: 30, Confidence Level: 99.0%\n",
      "Estimated Mean: 9477.43, Confidence Interval: (7222.89, 11806.83)\n",
      "\n",
      "Sample Size: 300, Confidence Level: 90.0%\n",
      "Estimated Mean: 9503.12, Confidence Interval: (9052.04, 9977.69)\n",
      "\n",
      "Sample Size: 300, Confidence Level: 95.0%\n",
      "Estimated Mean: 9524.47, Confidence Interval: (8963.37, 10066.36)\n",
      "\n",
      "Sample Size: 300, Confidence Level: 99.0%\n",
      "Estimated Mean: 9521.71, Confidence Interval: (8790.08, 10239.65)\n",
      "\n",
      "Sample Size: 3000, Confidence Level: 90.0%\n",
      "Estimated Mean: 9515.48, Confidence Interval: (9368.50, 9661.22)\n",
      "\n",
      "Sample Size: 3000, Confidence Level: 95.0%\n",
      "Estimated Mean: 9516.00, Confidence Interval: (9340.47, 9689.26)\n",
      "\n",
      "Sample Size: 3000, Confidence Level: 99.0%\n",
      "Estimated Mean: 9518.23, Confidence Interval: (9285.67, 9744.06)\n",
      "\n",
      "--- Confidence Intervals for Age Group 36-45 ---\n",
      "Sample Size: 30, Confidence Level: 90.0%\n",
      "Estimated Mean: 9349.93, Confidence Interval: (7867.15, 10778.69)\n",
      "\n",
      "Sample Size: 30, Confidence Level: 95.0%\n",
      "Estimated Mean: 9319.82, Confidence Interval: (7588.26, 11057.58)\n",
      "\n",
      "Sample Size: 30, Confidence Level: 99.0%\n",
      "Estimated Mean: 9360.80, Confidence Interval: (7043.19, 11602.65)\n",
      "\n",
      "Sample Size: 300, Confidence Level: 90.0%\n",
      "Estimated Mean: 9310.34, Confidence Interval: (8862.57, 9783.28)\n",
      "\n",
      "Sample Size: 300, Confidence Level: 95.0%\n",
      "Estimated Mean: 9306.08, Confidence Interval: (8774.37, 9871.47)\n",
      "\n",
      "Sample Size: 300, Confidence Level: 99.0%\n",
      "Estimated Mean: 9328.71, Confidence Interval: (8602.01, 10043.84)\n",
      "\n",
      "Sample Size: 3000, Confidence Level: 90.0%\n",
      "Estimated Mean: 9321.56, Confidence Interval: (9177.34, 9468.50)\n",
      "\n",
      "Sample Size: 3000, Confidence Level: 95.0%\n",
      "Estimated Mean: 9323.36, Confidence Interval: (9149.46, 9496.39)\n",
      "\n",
      "Sample Size: 3000, Confidence Level: 99.0%\n",
      "Estimated Mean: 9324.46, Confidence Interval: (9094.95, 9550.89)\n",
      "\n",
      "--- Confidence Intervals for Age Group 18-25 ---\n",
      "Sample Size: 30, Confidence Level: 90.0%\n",
      "Estimated Mean: 9180.78, Confidence Interval: (7700.68, 10637.35)\n",
      "\n",
      "Sample Size: 30, Confidence Level: 95.0%\n",
      "Estimated Mean: 9224.51, Confidence Interval: (7419.38, 10918.64)\n",
      "\n",
      "Sample Size: 30, Confidence Level: 99.0%\n",
      "Estimated Mean: 9158.01, Confidence Interval: (6869.61, 11468.41)\n",
      "\n",
      "Sample Size: 300, Confidence Level: 90.0%\n",
      "Estimated Mean: 9160.15, Confidence Interval: (8704.68, 9633.34)\n",
      "\n",
      "Sample Size: 300, Confidence Level: 95.0%\n",
      "Estimated Mean: 9166.47, Confidence Interval: (8615.73, 9722.29)\n",
      "\n",
      "Sample Size: 300, Confidence Level: 99.0%\n",
      "Estimated Mean: 9162.06, Confidence Interval: (8441.88, 9896.15)\n",
      "\n",
      "Sample Size: 3000, Confidence Level: 90.0%\n",
      "Estimated Mean: 9170.17, Confidence Interval: (9022.18, 9315.84)\n",
      "\n",
      "Sample Size: 3000, Confidence Level: 95.0%\n",
      "Estimated Mean: 9172.43, Confidence Interval: (8994.05, 9343.97)\n",
      "\n",
      "Sample Size: 3000, Confidence Level: 99.0%\n",
      "Estimated Mean: 9165.89, Confidence Interval: (8939.07, 9398.95)\n",
      "\n"
     ]
    },
    {
     "data": {
      "image/png": "[encoded data removed]",
      "text/plain": [
       "<Figure size 640x480 with 1 Axes>"
      ]
     },
     "metadata": {},
     "output_type": "display_data"
    }
   ],
   "source": [
    "def clt_confidence_interval(data, sample_size, confidence_level):\n",
    "    sample_mean = np.mean(data)\n",
    "    sample_std = np.std(data, ddof=1)\n",
    "    standard_error = sample_std / np.sqrt(sample_size)\n",
    "    z_value = stats.norm.ppf(1 - (1 - confidence_level) / 2)\n",
    "    margin_of_error = z_value * standard_error\n",
    "    lower_bound = sample_mean - margin_of_error\n",
    "    upper_bound = sample_mean + margin_of_error\n",
    "    return sample_mean, lower_bound, upper_bound\n",
    "def simulate_sampling(data, sample_size, num_samples=1000, confidence_level=0.95):\n",
    "    sample_means = []\n",
    "    for _ in range(num_samples):\n",
    "        sample = np.random.choice(data, size=sample_size, replace=False)\n",
    "        sample_mean, lower, upper = clt_confidence_interval(sample, sample_size, confidence_level)\n",
    "        sample_means.append(sample_mean)   \n",
    "    return sample_means\n",
    "sample_sizes = [30, 300, 3000]\n",
    "confidence_levels = [0.90, 0.95, 0.99]\n",
    "for age_bin in wal['Age'].unique():\n",
    "    print(f\"--- Confidence Intervals for Age Group {age_bin} ---\")\n",
    "    age_group_data = wal[wal['Age'] == age_bin]['Purchase']\n",
    "    \n",
    "    for sample_size in sample_sizes:\n",
    "        for confidence_level in confidence_levels:\n",
    "            sample_means = simulate_sampling(age_group_data, sample_size, num_samples=1000, confidence_level=confidence_level)\n",
    "            sample_mean = np.mean(sample_means)\n",
    "            lower_bound, upper_bound = clt_confidence_interval(age_group_data, sample_size, confidence_level)[1:]\n",
    "            print(f\"Sample Size: {sample_size}, Confidence Level: {confidence_level*100}%\")\n",
    "            print(f\"Estimated Mean: {sample_mean:.2f}, Confidence Interval: ({lower_bound:.2f}, {upper_bound:.2f})\\n\")\n",
    "        plt.hist(sample_means, bins=30, alpha=0.6, label=f'Age Group: {age_bin}')\n",
    "        plt.title(f\"Distribution of Sample Means for Age Group: {age_bin}\")\n",
    "        plt.xlabel('Sample Mean of Spending')\n",
    "        plt.ylabel('Frequency')\n",
    "        plt.legend(loc='upper right')\n",
    "\n",
    "plt.tight_layout()\n",
    "plt.show()"
   ]
  },
  {
   "cell_type": "code",
   "execution_count": 222,
   "id": "6eadd7c1-1a21-400a-a882-16e1f6946464",
   "metadata": {},
   "outputs": [
    {
     "data": {
      "text/plain": [
       "array([0, 1], dtype=int64)"
      ]
     },
     "execution_count": 222,
     "metadata": {},
     "output_type": "execute_result"
    }
   ],
   "source": [
    "wal['Marital_Status'].unique()"
   ]
  },
  {
   "cell_type": "code",
   "execution_count": 225,
   "id": "561af32c-b3b3-4528-9c68-ef134edecaf3",
   "metadata": {},
   "outputs": [
    {
     "name": "stdout",
     "output_type": "stream",
     "text": [
      "--- Confidence Intervals for Marital Status: 1 ---\n",
      "Sample Size: 10, Confidence Level: 90.0%\n",
      "Estimated Mean: 9366.87, Confidence Interval: (6734.34, 11773.00)\n",
      "\n",
      "Sample Size: 10, Confidence Level: 95.0%\n",
      "Estimated Mean: 9227.28, Confidence Interval: (6251.70, 12255.64)\n",
      "\n",
      "Sample Size: 10, Confidence Level: 99.0%\n",
      "Estimated Mean: 9218.00, Confidence Interval: (5308.41, 13198.93)\n",
      "\n",
      "Sample Size: 30, Confidence Level: 90.0%\n",
      "Estimated Mean: 9212.92, Confidence Interval: (7799.13, 10708.21)\n",
      "\n",
      "Sample Size: 30, Confidence Level: 95.0%\n",
      "Estimated Mean: 9223.30, Confidence Interval: (7520.48, 10986.86)\n",
      "\n",
      "Sample Size: 30, Confidence Level: 99.0%\n",
      "Estimated Mean: 9253.58, Confidence Interval: (6975.88, 11531.46)\n",
      "\n",
      "Sample Size: 100, Confidence Level: 90.0%\n",
      "Estimated Mean: 9265.83, Confidence Interval: (8456.99, 10050.35)\n",
      "\n",
      "Sample Size: 100, Confidence Level: 95.0%\n",
      "Estimated Mean: 9269.75, Confidence Interval: (8304.36, 10202.98)\n",
      "\n",
      "Sample Size: 100, Confidence Level: 99.0%\n",
      "Estimated Mean: 9261.53, Confidence Interval: (8006.07, 10501.27)\n",
      "\n",
      "Sample Size: 500, Confidence Level: 90.0%\n",
      "Estimated Mean: 9250.05, Confidence Interval: (8897.38, 9609.96)\n",
      "\n",
      "Sample Size: 500, Confidence Level: 95.0%\n",
      "Estimated Mean: 9261.10, Confidence Interval: (8829.13, 9678.21)\n",
      "\n",
      "Sample Size: 500, Confidence Level: 99.0%\n",
      "Estimated Mean: 9260.75, Confidence Interval: (8695.73, 9811.61)\n",
      "\n",
      "--- Confidence Intervals for Marital Status: 0 ---\n",
      "Sample Size: 10, Confidence Level: 90.0%\n",
      "Estimated Mean: 9250.54, Confidence Interval: (6728.52, 11789.12)\n",
      "\n",
      "Sample Size: 10, Confidence Level: 95.0%\n",
      "Estimated Mean: 9268.75, Confidence Interval: (6243.78, 12273.86)\n",
      "\n",
      "Sample Size: 10, Confidence Level: 99.0%\n",
      "Estimated Mean: 9253.46, Confidence Interval: (5296.38, 13221.26)\n",
      "\n",
      "Sample Size: 30, Confidence Level: 90.0%\n",
      "Estimated Mean: 9239.82, Confidence Interval: (7797.95, 10719.69)\n",
      "\n",
      "Sample Size: 30, Confidence Level: 95.0%\n",
      "Estimated Mean: 9250.43, Confidence Interval: (7518.08, 10999.56)\n",
      "\n",
      "Sample Size: 30, Confidence Level: 99.0%\n",
      "Estimated Mean: 9292.63, Confidence Interval: (6971.11, 11546.54)\n",
      "\n",
      "Sample Size: 100, Confidence Level: 90.0%\n",
      "Estimated Mean: 9267.46, Confidence Interval: (8458.67, 10058.97)\n",
      "\n",
      "Sample Size: 100, Confidence Level: 95.0%\n",
      "Estimated Mean: 9253.47, Confidence Interval: (8305.38, 10212.26)\n",
      "\n",
      "Sample Size: 100, Confidence Level: 99.0%\n",
      "Estimated Mean: 9265.89, Confidence Interval: (8005.79, 10511.85)\n",
      "\n",
      "Sample Size: 500, Confidence Level: 90.0%\n",
      "Estimated Mean: 9254.54, Confidence Interval: (8900.98, 9616.66)\n",
      "\n",
      "Sample Size: 500, Confidence Level: 95.0%\n",
      "Estimated Mean: 9267.32, Confidence Interval: (8832.43, 9685.21)\n",
      "\n",
      "Sample Size: 500, Confidence Level: 99.0%\n",
      "Estimated Mean: 9256.20, Confidence Interval: (8698.45, 9819.19)\n",
      "\n"
     ]
    },
    {
     "data": {
      "image/png": "[encoded data removed]",
      "text/plain": [
       "<Figure size 640x480 with 1 Axes>"
      ]
     },
     "metadata": {},
     "output_type": "display_data"
    }
   ],
   "source": [
    "marital_statuses = [1,0]\n",
    "def clt_confidence_interval(data, sample_size, confidence_level):\n",
    "    sample_mean = np.mean(data)\n",
    "    sample_std = np.std(data, ddof=1)\n",
    "    standard_error = sample_std / np.sqrt(sample_size)\n",
    "    z_value = stats.norm.ppf(1 - (1 - confidence_level) / 2)\n",
    "    margin_of_error = z_value * standard_error\n",
    "    lower_bound = sample_mean - margin_of_error\n",
    "    upper_bound = sample_mean + margin_of_error\n",
    "    return sample_mean, lower_bound, upper_bound\n",
    "\n",
    "def simulate_sampling(data, sample_size, num_samples=1000, confidence_level=0.95):\n",
    "    sample_means = []\n",
    "    for _ in range(num_samples):\n",
    "        sample = np.random.choice(data, size=sample_size, replace=False)\n",
    "        sample_mean, lower, upper = clt_confidence_interval(sample, sample_size, confidence_level)\n",
    "        sample_means.append(sample_mean)     \n",
    "    return sample_means\n",
    "sample_sizes = [10, 30, 100, 500]\n",
    "confidence_levels = [0.90, 0.95, 0.99]\n",
    "for marital_status in marital_statuses:\n",
    "    print(f\"--- Confidence Intervals for Marital Status: {marital_status} ---\")\n",
    "    marital_group_data = wal[wal['Marital_Status'] == marital_status]['Purchase']\n",
    "    for sample_size in sample_sizes:\n",
    "        for confidence_level in confidence_levels:\n",
    "            sample_means = simulate_sampling(marital_group_data, sample_size, num_samples=1000, confidence_level=confidence_level)\n",
    "            sample_mean = np.mean(sample_means)\n",
    "            lower_bound, upper_bound = clt_confidence_interval(marital_group_data, sample_size, confidence_level)[1:]\n",
    "            print(f\"Sample Size: {sample_size}, Confidence Level: {confidence_level*100}%\")\n",
    "            print(f\"Estimated Mean: {sample_mean:.2f}, Confidence Interval: ({lower_bound:.2f}, {upper_bound:.2f})\\n\")\n",
    "        plt.hist(sample_means, bins=30, alpha=0.6, label=f'Marital Status: {marital_status}')\n",
    "        plt.title(f\"Distribution of Sample Means for Marital Status: {marital_status}\")\n",
    "        plt.xlabel('Sample Mean of Spending')\n",
    "        plt.ylabel('Frequency')\n",
    "        plt.legend(loc='upper right')\n",
    "plt.tight_layout()\n",
    "plt.show()"
   ]
  },
  {
   "cell_type": "markdown",
   "id": "eb9d6109-31cb-4e0f-beb4-8e86ed3bb9ff",
   "metadata": {},
   "source": [
    "# q7. Give recommendations and action items to Megamart."
   ]
  },
  {
   "cell_type": "raw",
   "id": "0c9d4efd-dc60-4fb1-87b3-321082b1f412",
   "metadata": {},
   "source": [
    "1. Unified Marketing Strategy: Since average spending is similar, Megamart can focus on cross-gender campaigns, avoiding over-segmentation, but still personalizing based on other customer traits.\n",
    "\n",
    "2.Segment High-Value Customers: Megamart should use customer data to focus on high-spending customers (e.g., those on the upper ends of the confidence interval ranges for both genders) for targeted promotions.\n",
    "\n",
    "3. Optimize Product Placement: Consider gender-neutral product placement for categories with similar average spending and focus on offering personalized experiences based on individual purchasing habits rather than gender alone."
   ]
  },
  {
   "cell_type": "code",
   "execution_count": null,
   "id": "120c83fd-57c6-4583-8611-7bf73e395436",
   "metadata": {},
   "outputs": [],
   "source": []
  }
 ],
 "metadata": {
  "kernelspec": {
   "display_name": "Python 3 (ipykernel)",
   "language": "python",
   "name": "python3"
  },
  "language_info": {
   "codemirror_mode": {
    "name": "ipython",
    "version": 3
   },
   "file_extension": ".py",
   "mimetype": "text/x-python",
   "name": "python",
   "nbconvert_exporter": "python",
   "pygments_lexer": "ipython3",
   "version": "3.12.4"
  }
 },
 "nbformat": 4,
 "nbformat_minor": 5
}
